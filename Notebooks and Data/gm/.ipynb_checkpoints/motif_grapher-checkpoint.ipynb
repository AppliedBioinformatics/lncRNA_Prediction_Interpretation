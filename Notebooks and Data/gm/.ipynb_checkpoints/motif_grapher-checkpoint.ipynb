{
 "cells": [
  {
   "cell_type": "code",
   "execution_count": 1,
   "metadata": {},
   "outputs": [],
   "source": [
    "import pandas as pd\n",
    "import numpy as np\n",
    "import matplotlib as plt\n",
    "import json\n",
    "ff = open(\"Gm_sig_motifs_top50.json\")\n",
    "motifs = json.load(ff)\n",
    "ff.close()"
   ]
  },
  {
   "cell_type": "code",
   "execution_count": 2,
   "metadata": {},
   "outputs": [
    {
     "data": {
      "text/plain": [
       "['TAAAAAA',\n",
       " 'AATAATA',\n",
       " 'TTATAAT',\n",
       " 'TTAATTT',\n",
       " 'AAATTAA',\n",
       " 'TTTTTTT',\n",
       " 'AAAAAAAA',\n",
       " 'TTAATAA',\n",
       " 'TTATTTT',\n",
       " 'AAAATAA',\n",
       " 'TTATAATA',\n",
       " 'TTATATAT',\n",
       " 'TTTTTTTT',\n",
       " 'TAAAAAAT',\n",
       " 'TTAAAAA',\n",
       " 'ATTTTTT',\n",
       " 'TATATAAAA',\n",
       " 'TTTTTTAT',\n",
       " 'AATATAA',\n",
       " 'ATTATTTT',\n",
       " 'AATAAAAT',\n",
       " 'TTAAAAAA',\n",
       " 'AATTTAT',\n",
       " 'AATAATAA',\n",
       " 'TTAAAAAT',\n",
       " 'TTTTTAT',\n",
       " 'AAAAAAAAA',\n",
       " 'ATATATAT',\n",
       " 'TTTTAAAA',\n",
       " 'ATTTTAA',\n",
       " 'AAAAAAA',\n",
       " 'AAATAAA',\n",
       " 'ATATATATATATATA',\n",
       " 'TATATAA',\n",
       " 'AATTTTT',\n",
       " 'ATTTAAA',\n",
       " 'AATTTAA',\n",
       " 'TTATTTTT']"
      ]
     },
     "execution_count": 2,
     "metadata": {},
     "output_type": "execute_result"
    }
   ],
   "source": [
    "motif_list = []\n",
    "for key in motifs:\n",
    "    motif_list.append(key)\n",
    "motif_list"
   ]
  },
  {
   "cell_type": "code",
   "execution_count": 4,
   "metadata": {},
   "outputs": [
    {
     "name": "stdout",
     "output_type": "stream",
     "text": [
      "38\n"
     ]
    }
   ],
   "source": [
    "print(len(motif_list))"
   ]
  },
  {
   "cell_type": "code",
   "execution_count": 5,
   "metadata": {},
   "outputs": [],
   "source": [
    "from Bio import Seq\n",
    "from Bio.Seq import Seq\n",
    "from Bio import SeqIO\n",
    "from Bio.SeqRecord import SeqRecord\n",
    "from Bio.SeqFeature import FeatureLocation, CompoundLocation"
   ]
  },
  {
   "cell_type": "code",
   "execution_count": 6,
   "metadata": {},
   "outputs": [],
   "source": [
    "def parse_fasta(filename):\n",
    "    fasta = SeqIO.parse(filename, 'fasta')\n",
    "    fs = [i for i in fasta]\n",
    "    seqs = [str(i.seq) for i in fs]\n",
    "    df = pd.DataFrame(seqs, columns=['Sequence'])\n",
    "    df = df.drop_duplicates()\n",
    "    return df"
   ]
  },
  {
   "cell_type": "code",
   "execution_count": 7,
   "metadata": {},
   "outputs": [
    {
     "data": {
      "text/html": [
       "<div>\n",
       "<style scoped>\n",
       "    .dataframe tbody tr th:only-of-type {\n",
       "        vertical-align: middle;\n",
       "    }\n",
       "\n",
       "    .dataframe tbody tr th {\n",
       "        vertical-align: top;\n",
       "    }\n",
       "\n",
       "    .dataframe thead th {\n",
       "        text-align: right;\n",
       "    }\n",
       "</style>\n",
       "<table border=\"1\" class=\"dataframe\">\n",
       "  <thead>\n",
       "    <tr style=\"text-align: right;\">\n",
       "      <th></th>\n",
       "      <th>Sequence</th>\n",
       "    </tr>\n",
       "  </thead>\n",
       "  <tbody>\n",
       "    <tr>\n",
       "      <th>0</th>\n",
       "      <td>GATGAGTCTCTAAAATGTAGATATCAAAATAAATAATATTTTTCAC...</td>\n",
       "    </tr>\n",
       "    <tr>\n",
       "      <th>1</th>\n",
       "      <td>AGAATGTGTGAAAAAATATGTTAGTAATATTTGTCAAGGGATTATC...</td>\n",
       "    </tr>\n",
       "    <tr>\n",
       "      <th>2</th>\n",
       "      <td>GGTCAGGAGGAGAGCATGTGGTGGTTATGGTGGTGGCAAGGAGGTG...</td>\n",
       "    </tr>\n",
       "    <tr>\n",
       "      <th>3</th>\n",
       "      <td>TTGCATCACCACCATAGCAACGCACAAGCGTGTCCCAAGCAGCTTT...</td>\n",
       "    </tr>\n",
       "    <tr>\n",
       "      <th>4</th>\n",
       "      <td>AAAAAATGGTAAGGAAAAAGTCCTGAATACACGACTTATCCAATAG...</td>\n",
       "    </tr>\n",
       "    <tr>\n",
       "      <th>...</th>\n",
       "      <td>...</td>\n",
       "    </tr>\n",
       "    <tr>\n",
       "      <th>2316</th>\n",
       "      <td>AGTTCGTGAATGGATAAACTTTTTCATAAGCATTTGTAGCAGAATG...</td>\n",
       "    </tr>\n",
       "    <tr>\n",
       "      <th>2317</th>\n",
       "      <td>GATCCGGCGAAATTCGTGCTGGAGGCGATCTCGGAGGTGTTTCCGG...</td>\n",
       "    </tr>\n",
       "    <tr>\n",
       "      <th>2318</th>\n",
       "      <td>CTATCTAACTATTTGCATTCCCATTTAGAGATTAGTCTAAATGCAT...</td>\n",
       "    </tr>\n",
       "    <tr>\n",
       "      <th>2319</th>\n",
       "      <td>TCAGCCACTTAGTCATCGTCAAGCTAAGTAGCTAACTTCTGATCTA...</td>\n",
       "    </tr>\n",
       "    <tr>\n",
       "      <th>2320</th>\n",
       "      <td>ATATCTACAAGTAAACTTTGTTAATTCAAACAGTAAACCTTACATA...</td>\n",
       "    </tr>\n",
       "  </tbody>\n",
       "</table>\n",
       "<p>2321 rows × 1 columns</p>\n",
       "</div>"
      ],
      "text/plain": [
       "                                               Sequence\n",
       "0     GATGAGTCTCTAAAATGTAGATATCAAAATAAATAATATTTTTCAC...\n",
       "1     AGAATGTGTGAAAAAATATGTTAGTAATATTTGTCAAGGGATTATC...\n",
       "2     GGTCAGGAGGAGAGCATGTGGTGGTTATGGTGGTGGCAAGGAGGTG...\n",
       "3     TTGCATCACCACCATAGCAACGCACAAGCGTGTCCCAAGCAGCTTT...\n",
       "4     AAAAAATGGTAAGGAAAAAGTCCTGAATACACGACTTATCCAATAG...\n",
       "...                                                 ...\n",
       "2316  AGTTCGTGAATGGATAAACTTTTTCATAAGCATTTGTAGCAGAATG...\n",
       "2317  GATCCGGCGAAATTCGTGCTGGAGGCGATCTCGGAGGTGTTTCCGG...\n",
       "2318  CTATCTAACTATTTGCATTCCCATTTAGAGATTAGTCTAAATGCAT...\n",
       "2319  TCAGCCACTTAGTCATCGTCAAGCTAAGTAGCTAACTTCTGATCTA...\n",
       "2320  ATATCTACAAGTAAACTTTGTTAATTCAAACAGTAAACCTTACATA...\n",
       "\n",
       "[2321 rows x 1 columns]"
      ]
     },
     "execution_count": 7,
     "metadata": {},
     "output_type": "execute_result"
    }
   ],
   "source": [
    "lncrna = parse_fasta(\"gm_lncrna_flanked.fa\")\n",
    "lncrna"
   ]
  },
  {
   "cell_type": "code",
   "execution_count": 8,
   "metadata": {},
   "outputs": [
    {
     "data": {
      "text/html": [
       "<div>\n",
       "<style scoped>\n",
       "    .dataframe tbody tr th:only-of-type {\n",
       "        vertical-align: middle;\n",
       "    }\n",
       "\n",
       "    .dataframe tbody tr th {\n",
       "        vertical-align: top;\n",
       "    }\n",
       "\n",
       "    .dataframe thead th {\n",
       "        text-align: right;\n",
       "    }\n",
       "</style>\n",
       "<table border=\"1\" class=\"dataframe\">\n",
       "  <thead>\n",
       "    <tr style=\"text-align: right;\">\n",
       "      <th></th>\n",
       "    </tr>\n",
       "    <tr>\n",
       "      <th>Motifs</th>\n",
       "    </tr>\n",
       "  </thead>\n",
       "  <tbody>\n",
       "    <tr>\n",
       "      <th>TAAAAAA</th>\n",
       "    </tr>\n",
       "    <tr>\n",
       "      <th>AATAATA</th>\n",
       "    </tr>\n",
       "    <tr>\n",
       "      <th>TTATAAT</th>\n",
       "    </tr>\n",
       "    <tr>\n",
       "      <th>TTAATTT</th>\n",
       "    </tr>\n",
       "    <tr>\n",
       "      <th>AAATTAA</th>\n",
       "    </tr>\n",
       "    <tr>\n",
       "      <th>TTTTTTT</th>\n",
       "    </tr>\n",
       "    <tr>\n",
       "      <th>AAAAAAAA</th>\n",
       "    </tr>\n",
       "    <tr>\n",
       "      <th>TTAATAA</th>\n",
       "    </tr>\n",
       "    <tr>\n",
       "      <th>TTATTTT</th>\n",
       "    </tr>\n",
       "    <tr>\n",
       "      <th>AAAATAA</th>\n",
       "    </tr>\n",
       "    <tr>\n",
       "      <th>TTATAATA</th>\n",
       "    </tr>\n",
       "    <tr>\n",
       "      <th>TTATATAT</th>\n",
       "    </tr>\n",
       "    <tr>\n",
       "      <th>TTTTTTTT</th>\n",
       "    </tr>\n",
       "    <tr>\n",
       "      <th>TAAAAAAT</th>\n",
       "    </tr>\n",
       "    <tr>\n",
       "      <th>TTAAAAA</th>\n",
       "    </tr>\n",
       "    <tr>\n",
       "      <th>ATTTTTT</th>\n",
       "    </tr>\n",
       "    <tr>\n",
       "      <th>TATATAAAA</th>\n",
       "    </tr>\n",
       "    <tr>\n",
       "      <th>TTTTTTAT</th>\n",
       "    </tr>\n",
       "    <tr>\n",
       "      <th>AATATAA</th>\n",
       "    </tr>\n",
       "    <tr>\n",
       "      <th>ATTATTTT</th>\n",
       "    </tr>\n",
       "    <tr>\n",
       "      <th>AATAAAAT</th>\n",
       "    </tr>\n",
       "    <tr>\n",
       "      <th>TTAAAAAA</th>\n",
       "    </tr>\n",
       "    <tr>\n",
       "      <th>AATTTAT</th>\n",
       "    </tr>\n",
       "    <tr>\n",
       "      <th>AATAATAA</th>\n",
       "    </tr>\n",
       "    <tr>\n",
       "      <th>TTAAAAAT</th>\n",
       "    </tr>\n",
       "    <tr>\n",
       "      <th>TTTTTAT</th>\n",
       "    </tr>\n",
       "    <tr>\n",
       "      <th>AAAAAAAAA</th>\n",
       "    </tr>\n",
       "    <tr>\n",
       "      <th>ATATATAT</th>\n",
       "    </tr>\n",
       "    <tr>\n",
       "      <th>TTTTAAAA</th>\n",
       "    </tr>\n",
       "    <tr>\n",
       "      <th>ATTTTAA</th>\n",
       "    </tr>\n",
       "    <tr>\n",
       "      <th>AAAAAAA</th>\n",
       "    </tr>\n",
       "    <tr>\n",
       "      <th>AAATAAA</th>\n",
       "    </tr>\n",
       "    <tr>\n",
       "      <th>ATATATATATATATA</th>\n",
       "    </tr>\n",
       "    <tr>\n",
       "      <th>TATATAA</th>\n",
       "    </tr>\n",
       "    <tr>\n",
       "      <th>AATTTTT</th>\n",
       "    </tr>\n",
       "    <tr>\n",
       "      <th>ATTTAAA</th>\n",
       "    </tr>\n",
       "    <tr>\n",
       "      <th>AATTTAA</th>\n",
       "    </tr>\n",
       "    <tr>\n",
       "      <th>TTATTTTT</th>\n",
       "    </tr>\n",
       "  </tbody>\n",
       "</table>\n",
       "</div>"
      ],
      "text/plain": [
       "Empty DataFrame\n",
       "Columns: []\n",
       "Index: [TAAAAAA, AATAATA, TTATAAT, TTAATTT, AAATTAA, TTTTTTT, AAAAAAAA, TTAATAA, TTATTTT, AAAATAA, TTATAATA, TTATATAT, TTTTTTTT, TAAAAAAT, TTAAAAA, ATTTTTT, TATATAAAA, TTTTTTAT, AATATAA, ATTATTTT, AATAAAAT, TTAAAAAA, AATTTAT, AATAATAA, TTAAAAAT, TTTTTAT, AAAAAAAAA, ATATATAT, TTTTAAAA, ATTTTAA, AAAAAAA, AAATAAA, ATATATATATATATA, TATATAA, AATTTTT, ATTTAAA, AATTTAA, TTATTTTT]"
      ]
     },
     "execution_count": 8,
     "metadata": {},
     "output_type": "execute_result"
    }
   ],
   "source": [
    "df = pd.DataFrame(motif_list, columns=['Motifs'])\n",
    "df.set_index(\"Motifs\")"
   ]
  },
  {
   "cell_type": "code",
   "execution_count": 9,
   "metadata": {},
   "outputs": [
    {
     "data": {
      "text/plain": [
       "array([[0., 0., 0., ..., 0., 0., 0.],\n",
       "       [0., 0., 0., ..., 0., 0., 0.],\n",
       "       [0., 0., 0., ..., 0., 0., 0.],\n",
       "       ...,\n",
       "       [0., 0., 0., ..., 0., 0., 0.],\n",
       "       [0., 0., 0., ..., 0., 0., 0.],\n",
       "       [0., 0., 0., ..., 0., 0., 0.]])"
      ]
     },
     "execution_count": 9,
     "metadata": {},
     "output_type": "execute_result"
    }
   ],
   "source": [
    "bins = np.zeros(shape=(len(motif_list),60))\n",
    "#bins = pd.DataFrame(bins)\n",
    "#motif_df = pd.concat([df, bins], axis = 1)\n",
    "#motif_df.set_index(\"Motifs\")\n",
    "#motif_df\n",
    "\n",
    "bins"
   ]
  },
  {
   "cell_type": "code",
   "execution_count": 10,
   "metadata": {},
   "outputs": [],
   "source": [
    "def find_percentile_bin(start, end, length):\n",
    "    bins = []\n",
    "    motif_len = end-start\n",
    "    start = start-500\n",
    "    end = end-500\n",
    "    length = length - 1000\n",
    "    sb = int((float(start/length)*100) / 5) + 20\n",
    "    eb = int((float(end/length)*100) / 5) + 20\n",
    "    if(sb != eb):\n",
    "        bins.append(sb)\n",
    "        bins.append(eb)\n",
    "    else:\n",
    "        bins.append(sb)\n",
    "    return bins"
   ]
  },
  {
   "cell_type": "code",
   "execution_count": 11,
   "metadata": {},
   "outputs": [],
   "source": [
    "def find_flank_bin(start, end, length):\n",
    "    bins = []\n",
    "    sb =int(start/25)\n",
    "    eb = int(end/25)\n",
    "    if(sb != eb):\n",
    "        bins.append(sb)\n",
    "        bins.append(eb)\n",
    "    else:\n",
    "        bins.append(sb)\n",
    "    return bins"
   ]
  },
  {
   "cell_type": "code",
   "execution_count": 12,
   "metadata": {},
   "outputs": [],
   "source": [
    "#should be 60 bins (0-19: front flank in intervals of 25bp, 20-39: lncRNA in %, 40-59: end flank in intervals of 25bp)\n",
    "def find_bin(start, end, length):\n",
    "    \n",
    "    front = range(0,500)\n",
    "    back = range(length-500, length)\n",
    "    lncrna = range(500, length-500)\n",
    "    \n",
    "    if(start in front and end in front):\n",
    "        bins = find_flank_bin(start,end,length)\n",
    "        \n",
    "    elif(start in front and end in lncrna):\n",
    "        #set start and end to be different\n",
    "        sb = find_flank_bin(start,499, length)\n",
    "        eb = find_percentile_bin(500,end, length)\n",
    "        bins = sb + eb\n",
    "        \n",
    "    elif(start in back and end in back):\n",
    "        start = start - (500+len(lncrna))\n",
    "        end = end - (500+len(lncrna))\n",
    "        bins = find_flank_bin(start,end,length)\n",
    "        bins = [x+40 for x in bins]\n",
    "        \n",
    "    elif(start in lncrna and end in back):\n",
    "        #set start and end to be different\n",
    "        sb = find_percentile_bin(start, length-501, length)\n",
    "        end = end - (500+len(lncrna))\n",
    "        eb = find_flank_bin(0, end, length)\n",
    "        eb = [x+40 for x in eb]\n",
    "        bins = sb + eb\n",
    "        \n",
    "    else:\n",
    "        bins = find_percentile_bin(start,end,length)\n",
    "    return bins\n",
    "    "
   ]
  },
  {
   "cell_type": "code",
   "execution_count": 13,
   "metadata": {},
   "outputs": [
    {
     "name": "stdout",
     "output_type": "stream",
     "text": [
      "[39, 40]\n"
     ]
    }
   ],
   "source": [
    "bb = find_bin(767,774,1272)\n",
    "print(bb)"
   ]
  },
  {
   "cell_type": "code",
   "execution_count": null,
   "metadata": {
    "scrolled": true
   },
   "outputs": [
    {
     "name": "stdout",
     "output_type": "stream",
     "text": [
      "TAAAAAA\n",
      "AATAATA\n",
      "TTATAAT\n",
      "TTAATTT\n",
      "AAATTAA\n",
      "TTTTTTT\n",
      "AAAAAAAA\n"
     ]
    }
   ],
   "source": [
    "bins = np.zeros(shape=(len(motif_list),60))\n",
    "m_index = 0\n",
    "for current_motif in motif_list:\n",
    "    print(current_motif)\n",
    "    for index, row in lncrna.iterrows():\n",
    "        current_lncrna = (row[\"Sequence\"])\n",
    "        start = 0\n",
    "        end = len(current_motif)\n",
    "        while(end<len(current_lncrna)):\n",
    "            #normalisation values\n",
    "            x = (len(current_lncrna)-1000)*0.05\n",
    "            #z will act as a value to be added to current bin. if lncrna is twice as big as flank then\n",
    "            #x will be 50 and then z will be 0.5. then 0.5 will be added to lncrna bins\n",
    "            z = float(25/x)\n",
    "            if(current_motif == current_lncrna[start:end]):\n",
    "                current_bin = find_bin(start, end, len(current_lncrna))\n",
    "                for y in current_bin:\n",
    "                    if(y > 19 and y < 40):\n",
    "                        #add normalised value for lncrna\n",
    "                        bins[m_index][y] = bins[m_index][y] + z\n",
    "                    else:\n",
    "                        #add just 1 for flanks\n",
    "                        bins[m_index][y] = bins[m_index][y] + 1\n",
    "            start = start + 1\n",
    "            end = end + 1\n",
    "    m_index = m_index+1\n",
    "print(bins)"
   ]
  },
  {
   "cell_type": "code",
   "execution_count": null,
   "metadata": {
    "scrolled": true
   },
   "outputs": [],
   "source": [
    "cols1 = []\n",
    "cols2 = []\n",
    "cols3 = []\n",
    "i = 1\n",
    "while i in range(1,21):\n",
    "    s = \"U\"+str(i)\n",
    "    cols1.append(s)\n",
    "    s = \"N\"+str(i)\n",
    "    cols2.append(s)\n",
    "    s = \"D\"+str(i)\n",
    "    cols3.append(s)\n",
    "    i = i + 1   \n",
    "cols = cols1 + cols2 + cols3\n",
    "cols"
   ]
  },
  {
   "cell_type": "code",
   "execution_count": null,
   "metadata": {},
   "outputs": [],
   "source": [
    "bin_df = pd.DataFrame(bins, columns = cols, index = motif_list)\n",
    "bin_df\n",
    "\n",
    "## To Do normalise this data somehow?\n",
    "## maybe transfer to R"
   ]
  },
  {
   "cell_type": "code",
   "execution_count": null,
   "metadata": {},
   "outputs": [],
   "source": [
    "bin_df.to_csv(\"gm_lncrna_norm_bins.csv\", header=True, index=True)"
   ]
  },
  {
   "cell_type": "code",
   "execution_count": null,
   "metadata": {},
   "outputs": [],
   "source": [
    "import matplotlib.pyplot as plt\n",
    "\n",
    "test_plot = bins[0]\n",
    "y_pos = np.arange(len(test_plot))\n",
    "plt.figure(figsize=(16,8))\n",
    "plt.bar(y_pos, test_plot, align='center', alpha=0.5)\n",
    "#plt.xticks(y_pos, objects)\n",
    "plt.ylabel('Count')\n",
    "plt.title('Motif Location of AAAAAAA')\n",
    "\n",
    "plt.show()"
   ]
  }
 ],
 "metadata": {
  "kernelspec": {
   "display_name": "Python 3",
   "language": "python",
   "name": "python3"
  },
  "language_info": {
   "codemirror_mode": {
    "name": "ipython",
    "version": 3
   },
   "file_extension": ".py",
   "mimetype": "text/x-python",
   "name": "python",
   "nbconvert_exporter": "python",
   "pygments_lexer": "ipython3",
   "version": "3.8.5"
  }
 },
 "nbformat": 4,
 "nbformat_minor": 4
}
